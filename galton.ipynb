{
 "cells": [
  {
   "cell_type": "code",
   "execution_count": 5,
   "metadata": {},
   "outputs": [],
   "source": [
    "import numpy as np\n",
    "import matplotlib.pyplot as plt"
   ]
  },
  {
   "cell_type": "code",
   "execution_count": 123,
   "metadata": {},
   "outputs": [],
   "source": [
    "class Galton():\n",
    "    def __init__(self, n_steps, odds_right):\n",
    "        self.n_steps = n_steps\n",
    "        if odds_right > 1 or odds_right <0:\n",
    "            print(\"Odds of landing on the right must be less than 1 and greater than 0\")\n",
    "        self.odds_right = odds_right\n",
    "    \n",
    "    def simulate(self, n_balls):\n",
    "        \"\"\"\n",
    "        Simulate the Galton board\n",
    "        \"\"\"\n",
    "        #initialize position of the balls at x=0\n",
    "        pos = np.zeros(int(n_balls))\n",
    "\n",
    "        # np.random.seed(0)\n",
    "        #multiply n_steps by 2 and divide pos by 2 to avoid empty bins (only odd or only even)\n",
    "        for step in range(self.n_steps*2):\n",
    "            #generate a random number between 0 and 1\n",
    "            r = np.random.random(int(n_balls))\n",
    "            #if the random number is less than the odds of landing on the right,\n",
    "            #then the ball lands on the right\n",
    "            pos[r < self.odds_right] += 1\n",
    "            pos[r >= self.odds_right] -= 1\n",
    "\n",
    "        return pos/2.0\n"
   ]
  },
  {
   "cell_type": "code",
   "execution_count": 127,
   "metadata": {},
   "outputs": [],
   "source": [
    "n_steps_big = 10\n",
    "n_steps_small = 5\n",
    "bins_big = np.linspace(-n_steps_big-0.5, n_steps_big+0.5, 2*n_steps_big+2)\n",
    "g_big = Galton(n_steps=n_steps_big, odds_right=0.5)\n",
    "bins_small = np.linspace(-n_steps_small-0.5, n_steps_small+0.5, 2*n_steps_small+2)\n",
    "g_small = Galton(n_steps=n_steps_small, odds_right=0.6)"
   ]
  },
  {
   "cell_type": "code",
   "execution_count": 128,
   "metadata": {},
   "outputs": [],
   "source": [
    "n_balls_big = 1.e4\n",
    "n_balls_small = 1.e3\n",
    "pos_big = g_big.simulate(n_balls=n_balls_big)\n",
    "pos_small = g_small.simulate(n_balls=n_balls_small)"
   ]
  },
  {
   "cell_type": "code",
   "execution_count": 131,
   "metadata": {},
   "outputs": [
    {
     "data": {
      "image/png": "[encoded data removed]",
      "text/plain": [
       "<Figure size 432x288 with 1 Axes>"
      ]
     },
     "metadata": {
      "needs_background": "light"
     },
     "output_type": "display_data"
    }
   ],
   "source": [
    "plt.hist(pos_big, bins=bins_big,label=\"n_steps = {}, n_balls = {}, prob_right = {}\".format(n_steps_big, n_balls_big, g_big.odds_right))\n",
    "plt.hist(pos_small, bins=bins_small,label=\"n_steps = {}, n_balls = {}, prob_right = {}\".format(n_steps_small, n_balls_small, g_small.odds_right), alpha=0.5)\n",
    "plt.legend()\n",
    "plt.show()"
   ]
  },
  {
   "cell_type": "markdown",
   "metadata": {},
   "source": [
    "test"
   ]
  }
 ],
 "metadata": {
  "interpreter": {
   "hash": "8fee2622e3a8bc633187b5e9aed404d2594001afbad9b4a3b37a820e05bbe52a"
  },
  "kernelspec": {
   "display_name": "Python 3.7.7 64-bit ('.venv': venv)",
   "language": "python",
   "name": "python3"
  },
  "language_info": {
   "codemirror_mode": {
    "name": "ipython",
    "version": 3
   },
   "file_extension": ".py",
   "mimetype": "text/x-python",
   "name": "python",
   "nbconvert_exporter": "python",
   "pygments_lexer": "ipython3",
   "version": "3.7.7"
  },
  "orig_nbformat": 4
 },
 "nbformat": 4,
 "nbformat_minor": 2
}
