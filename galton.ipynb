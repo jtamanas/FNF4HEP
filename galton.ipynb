{
 "cells": [
  {
   "cell_type": "code",
   "execution_count": 42,
   "metadata": {},
   "outputs": [],
   "source": [
    "import numpy as np\n",
    "import matplotlib.pyplot as plt\n",
    "# import corner\n",
    "from models.classifier import BinaryClassifier\n",
    "import torch\n",
    "from torch.utils.data import TensorDataset\n",
    "from tqdm.auto import trange\n",
    "from sklearn.metrics import accuracy_score\n",
    "from sklearn.model_selection import train_test_split\n"
   ]
  },
  {
   "cell_type": "code",
   "execution_count": 2,
   "metadata": {},
   "outputs": [],
   "source": [
    "class Galton():\n",
    "    def __init__(self, n_steps, odds_right, n_dims=1):\n",
    "        self.n_steps = n_steps\n",
    "        self.n_dims = n_dims\n",
    "        if odds_right > 1 or odds_right < 0:\n",
    "            print(\"Odds of landing on the right must be less than 1 and greater than 0\")\n",
    "        self.odds_right = odds_right\n",
    "\n",
    "    \n",
    "    def simulate(self, n_balls):\n",
    "        \"\"\"\n",
    "        Simulate the Galton board\n",
    "        \"\"\"\n",
    "        #initialize position of the balls at x=0\n",
    "        pos = np.zeros((int(n_balls), self.n_dims))\n",
    "\n",
    "        # np.random.seed(0)\n",
    "        #multiply n_steps by 2 and divide pos by 2 to avoid empty bins (only odd or only even)\n",
    "        for step in range(self.n_steps*2):\n",
    "            #generate a random number between 0 and 1\n",
    "            r = np.random.random((int(n_balls), self.n_dims))\n",
    "            #if the random number is less than the odds of landing on the right,\n",
    "            #then the ball lands on the right\n",
    "            pos[r < self.odds_right] += 1\n",
    "            pos[r >= self.odds_right] -= 1\n",
    "\n",
    "        return pos.squeeze()/2.0/np.sqrt(self.n_steps)\n"
   ]
  },
  {
   "cell_type": "code",
   "execution_count": 3,
   "metadata": {},
   "outputs": [],
   "source": [
    "n_steps_big = 30\n",
    "n_steps_small = 5\n",
    "# bins_big = np.linspace(-n_steps_big-0.5, n_steps_big+0.5, 2*n_steps_big+2)\n",
    "g_big = Galton(n_steps=n_steps_big, odds_right=0.5, n_dims=1)\n",
    "# bins_small = np.linspace(-n_steps_small-0.5, n_steps_small+0.5, 2*n_steps_small+2)\n",
    "g_small = Galton(n_steps=n_steps_small, odds_right=0.6, n_dims=1)"
   ]
  },
  {
   "cell_type": "code",
   "execution_count": 4,
   "metadata": {},
   "outputs": [],
   "source": [
    "n_balls_big = 1.e4\n",
    "n_balls_small = 1.e4\n",
    "pos_big = g_big.simulate(n_balls=n_balls_big)\n",
    "pos_small = g_small.simulate(n_balls=n_balls_small)"
   ]
  },
  {
   "cell_type": "code",
   "execution_count": 246,
   "metadata": {},
   "outputs": [
    {
     "data": {
      "text/plain": [
       "(10000,)"
      ]
     },
     "execution_count": 246,
     "metadata": {},
     "output_type": "execute_result"
    }
   ],
   "source": [
    "pos_big.shape\n",
    "pos_small.shape"
   ]
  },
  {
   "cell_type": "code",
   "execution_count": 247,
   "metadata": {},
   "outputs": [],
   "source": [
    "bins = np.linspace(-3,3,6)"
   ]
  },
  {
   "cell_type": "code",
   "execution_count": 248,
   "metadata": {},
   "outputs": [
    {
     "data": {
      "image/png": "[encoded data removed]",
      "text/plain": [
       "<Figure size 576x432 with 1 Axes>"
      ]
     },
     "metadata": {
      "needs_background": "light"
     },
     "output_type": "display_data"
    }
   ],
   "source": [
    "plt.figure(figsize=(8,6))\n",
    "plt.hist(pos_big, bins=bins,label=\"n_steps = {}, n_balls = {}, prob_right = {}\".format(n_steps_big, n_balls_big, g_big.odds_right))\n",
    "plt.hist(pos_small, bins=bins, label=\"n_steps = {}, n_balls = {}, prob_right = {}\".format(n_steps_small, n_balls_small, g_small.odds_right), alpha=0.5)\n",
    "plt.legend()\n",
    "plt.show()"
   ]
  },
  {
   "cell_type": "markdown",
   "metadata": {},
   "source": [
    "## Binary Classifier"
   ]
  },
  {
   "cell_type": "code",
   "execution_count": 77,
   "metadata": {},
   "outputs": [],
   "source": [
    "Nsims = 10000\n",
    "\n",
    "n_balls_big = 1.e2\n",
    "n_balls_small = 1.e2\n",
    "\n",
    "pos_big_arr = np.array([g_big.simulate(n_balls=n_balls_big) for _ in range(Nsims)])\n",
    "pos_small_arr = np.array([g_small.simulate(n_balls=n_balls_small) for _ in range(Nsims)])"
   ]
  },
  {
   "cell_type": "code",
   "execution_count": 79,
   "metadata": {},
   "outputs": [],
   "source": [
    "data = torch.cat((torch.from_numpy(pos_big_arr).float(), torch.from_numpy(pos_small_arr).float()))\n",
    "labels = torch.cat([torch.zeros(pos_big_arr.shape[0]), torch.ones(pos_small_arr.shape[0])])\n",
    "data_train, data_test, labels_train, labels_test = train_test_split(data, labels, test_size=0.1)"
   ]
  },
  {
   "cell_type": "code",
   "execution_count": 80,
   "metadata": {},
   "outputs": [],
   "source": [
    "# Parameters\n",
    "params = {'batch_size': 64,\n",
    "          'shuffle': True}\n",
    "\n",
    "# Generators\n",
    "data_set_train = TensorDataset(data_train, labels_train)\n",
    "data_generator_train = torch.utils.data.DataLoader(data_set_train, **params)\n",
    "\n",
    "# data_set_test = TensorDataset(data_test, labels_test)\n",
    "# data_generator_test = torch.utils.data.DataLoader(data_set_test, **params)"
   ]
  },
  {
   "cell_type": "code",
   "execution_count": 84,
   "metadata": {},
   "outputs": [],
   "source": [
    "classifier = BinaryClassifier(np.shape(pos_big_arr)[1])\n",
    "optimizer = torch.optim.AdamW(classifier.parameters(), lr=1e-3, weight_decay=1e-4)"
   ]
  },
  {
   "cell_type": "code",
   "execution_count": 85,
   "metadata": {},
   "outputs": [
    {
     "name": "stderr",
     "output_type": "stream",
     "text": [
      "100%|██████████| 1000/1000 [00:01<00:00, 634.76it/s]\n"
     ]
    }
   ],
   "source": [
    "n_steps = 1000\n",
    "classifier_loss = []\n",
    "\n",
    "classifier.train()\n",
    "for n_step in trange(n_steps):\n",
    "    data, labels = next(iter(data_generator_train))\n",
    "    \n",
    "    optimizer.zero_grad()\n",
    "\n",
    "    loss = classifier.loss(data, labels).mean()\n",
    "    classifier_loss.append(loss.item())\n",
    "\n",
    "    loss.backward()\n",
    "    optimizer.step()\n",
    "classifier.eval();"
   ]
  },
  {
   "cell_type": "code",
   "execution_count": 87,
   "metadata": {},
   "outputs": [
    {
     "name": "stdout",
     "output_type": "stream",
     "text": [
      "0.998\n"
     ]
    }
   ],
   "source": [
    "print(accuracy_score(classifier.predict(data_test).detach().numpy(),labels_test))"
   ]
  },
  {
   "cell_type": "markdown",
   "metadata": {},
   "source": [
    "### Splitting Samples (to revise)"
   ]
  },
  {
   "cell_type": "code",
   "execution_count": 249,
   "metadata": {},
   "outputs": [],
   "source": [
    "def split_samples(alpha, beta, samples0_0, samples0_1, samples1_0, samples1_1):\n",
    "    \"\"\"\n",
    "    Calculate the number of samples from each probability for a given alpha, beta, and Ntot in order to have equal numbers of samples from\n",
    "    each resolution (assuming n_prob1_highres = n_prob1_lowres, n_prob2_highres = n_prob2_lowres)\n",
    "\n",
    "    Inputs: \n",
    "    alpha - label splitting parameter\n",
    "    beta - sensitive attribute splitting parameter\n",
    "    Ntot - total number of samples\n",
    "    samples0_0 - samples from the first probability with sensitive attribute 0\n",
    "    samples0_1 - samples from the first probability with sensitive attribute 1\n",
    "    samples1_0 - samples from the second probability with sensitive attribute 0\n",
    "    samples1_1 - samples from the second probability with sensitive attribute 1\n",
    "\n",
    "    Returns: total samples\n",
    "    \"\"\"\n",
    "    if len(samples0_0) != len(samples0_1) or len(samples0_0) != len(samples1_0) or len(samples0_0) != len(samples1_1) or \\\n",
    "    len(samples0_1) != len(samples1_0) or len(samples0_1) != len(samples1_1) or len(samples1_0) != len(samples1_1):\n",
    "        print(\"Error: the number of samples from each probability must be the same\")\n",
    "        return 0\n",
    "\n",
    "    n = len(samples0_0) \n",
    "\n",
    "    samples_low = np.concatenate((np.random.choice(samples0_0, round(n*alpha)), np.random.choice(samples1_0, round(n*(1-alpha)))))\n",
    "    \n",
    "    samples_high = np.concatenate((np.random.choice(samples0_1, round(n*alpha)), np.random.choice(samples1_1, round(n*(1-alpha)))))\n",
    "\n",
    "    samples_tot = np.concatenate((np.random.choice(samples_low, round(n*beta)), np.random.choice(samples_high, round(n*(1-beta)))))\n",
    "    \n",
    "    return samples_tot"
   ]
  },
  {
   "cell_type": "code",
   "execution_count": 250,
   "metadata": {},
   "outputs": [
    {
     "data": {
      "text/plain": [
       "array([-0.16368915,  0.12314658, -0.19718988, -0.19718988,  0.12314658,\n",
       "        0.41154107,  0.18569382,  0.41154107,  0.01859128, -0.93851458])"
      ]
     },
     "execution_count": 250,
     "metadata": {},
     "output_type": "execute_result"
    }
   ],
   "source": [
    "samples0_0 = np.random.uniform(0,1,10)\n",
    "samples0_1 = np.random.uniform(0,1,10)\n",
    "samples1_0 = np.random.uniform(-1,0,10)\n",
    "samples1_1 = np.random.uniform(-1,0,10)\n",
    "\n",
    "split_samples(0.5, 0.5, samples0_0, samples0_1, samples1_0, samples1_1)"
   ]
  },
  {
   "cell_type": "markdown",
   "metadata": {},
   "source": [
    "<!-- run N dimensional galton board. Independent runs -->\n",
    "Testing \n",
    "Run binary classifier to see if skewed\n",
    "plot classifier output vs x for relative resolutions"
   ]
  },
  {
   "cell_type": "code",
   "execution_count": 258,
   "metadata": {},
   "outputs": [],
   "source": [
    "#     #! This version is outdated I think\n",
    "# def label_sample_split(alpha, beta, Ntot, samples0_0, samples0_1, samples1_0, samples1_1):\n",
    "#     \"\"\"\n",
    "#     Calculate the number of samples from each probability for a given alpha, beta, and Ntot in order to have equal numbers of samples from\n",
    "#     each resolution (assuming n_prob1_highres = n_prob1_lowres, n_prob2_highres = n_prob2_lowres)\n",
    "\n",
    "#     Inputs: \n",
    "#     alpha - label splitting parameter\n",
    "#     beta - sensitive attribute splitting parameter\n",
    "#     Ntot - total number of samples\n",
    "#     samples0_0 - samples from the first probability with sensitive attribute 0\n",
    "#     samples0_1 - samples from the first probability with sensitive attribute 1\n",
    "#     samples1_0 - samples from the second probability with sensitive attribute 0\n",
    "#     samples1_1 - samples from the second probability with sensitive attribute 1\n",
    "\n",
    "#     Returns: total samples\n",
    "#     \"\"\"\n",
    "\n",
    "#     #todo: add special cases for alpha = 0 and beta = 0 etc.\n",
    "\n",
    "#     # if alpha==0.5: #All samples are from the first probability\n",
    "#     #     n0 = Ntot/2\n",
    "#     #     n1 = 0\n",
    "#     # elif beta==1: #All samples are from the first sensitive attribute\n",
    "#     #     n0 = samples0_0\n",
    "#     #     n1 = samples0_1\n",
    "#     # elif beta==0: #All samples are from the second sensitive attribute\n",
    "#     #     n0 = samples1_0\n",
    "#     #     n1 = samples1_1\n",
    "#     # else:\n",
    "#     n0 = Ntot*(1 - alpha - beta) / (2.0*(2*alpha-1)*(beta**2 - beta))\n",
    "#     n1 = n0 * (alpha-beta)/(alpha + beta - 1)\n",
    "\n",
    "#     data_0 = np.concatenate((np.random.choice(samples0_0, round(n0*alpha)), np.random.choice(samples1_0, round(n1*(1-alpha))))) #data with sensitive attribute 0\n",
    "#     data_1 = np.concatenate((np.random.choice(samples0_1, round(n0*(1-alpha))), np.random.choice(samples1_1, round(n1*alpha)))) #data with sensitive attribute 1\n",
    "\n",
    "\n",
    "#     return np.concatenate((np.random.choice(data_0,round(beta*Ntot)), np.random.choice(data_1,round((1-beta)*Ntot))))"
   ]
  },
  {
   "cell_type": "markdown",
   "metadata": {},
   "source": [
    "sensitive: number of steps\n",
    "label: probablities\n",
    "4 boards, equally weighted. Fraction of 50/50 high res.\n",
    "\n",
    "num5050 = num6040\n",
    "\n",
    "\n",
    "<!-- Not these!! -->\n",
    "<!-- num5050_30 = num5050_5\n",
    "num6040_30 = num6040_5 -->\n",
    "\n",
    "datansteps30 = (alpha)num505030 + (1-alpha)num604030\n",
    "datansteps5 = (1-alpha)num50505 + (alpha)num60405\n",
    "\n",
    "<!-- datansteps30 = (alpha)num505030 + (1-alpha)num604030\n",
    "datansteps5 = (alpha)num50505 + (1-alpha)num60405 -->\n",
    "\n",
    "datatot = (beta)datansteps30 + (1-beta)datansteps5"
   ]
  },
  {
   "cell_type": "markdown",
   "metadata": {},
   "source": [
    "datatot needs to have equal numbers of 5050 vs 6040 samples"
   ]
  },
  {
   "cell_type": "code",
   "execution_count": null,
   "metadata": {},
   "outputs": [],
   "source": [
    "beta*(alpha*num_50 + (1-alpha)num_60) = (1-beta)((1-alpha)num_50 + (alpha)num_60)"
   ]
  },
  {
   "cell_type": "code",
   "execution_count": null,
   "metadata": {},
   "outputs": [],
   "source": []
  }
 ],
 "metadata": {
  "interpreter": {
   "hash": "8fee2622e3a8bc633187b5e9aed404d2594001afbad9b4a3b37a820e05bbe52a"
  },
  "kernelspec": {
   "display_name": "Python 3.7.7 64-bit ('.venv': venv)",
   "language": "python",
   "name": "python3"
  },
  "language_info": {
   "codemirror_mode": {
    "name": "ipython",
    "version": 3
   },
   "file_extension": ".py",
   "mimetype": "text/x-python",
   "name": "python",
   "nbconvert_exporter": "python",
   "pygments_lexer": "ipython3",
   "version": "3.9.7"
  },
  "orig_nbformat": 4
 },
 "nbformat": 4,
 "nbformat_minor": 2
}
