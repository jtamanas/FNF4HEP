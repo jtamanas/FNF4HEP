{
 "cells": [
  {
   "cell_type": "code",
   "execution_count": 5,
   "metadata": {},
   "outputs": [],
   "source": [
    "import numpy as np\n",
    "import matplotlib.pyplot as plt"
   ]
  },
  {
   "cell_type": "code",
   "execution_count": 138,
   "metadata": {},
   "outputs": [],
   "source": [
    "class Galton():\n",
    "    def __init__(self, n_steps, odds_right):\n",
    "        self.n_steps = n_steps\n",
    "        if odds_right > 1 or odds_right <0:\n",
    "            print(\"Odds of landing on the right must be less than 1 and greater than 0\")\n",
    "        self.odds_right = odds_right\n",
    "    \n",
    "    def simulate(self, n_balls):\n",
    "        \"\"\"\n",
    "        Simulate the Galton board\n",
    "        \"\"\"\n",
    "        #initialize position of the balls at x=0\n",
    "        pos = np.zeros(int(n_balls))\n",
    "\n",
    "        # np.random.seed(0)\n",
    "        #multiply n_steps by 2 and divide pos by 2 to avoid empty bins (only odd or only even)\n",
    "        for step in range(self.n_steps*2):\n",
    "            #generate a random number between 0 and 1\n",
    "            r = np.random.random(int(n_balls))\n",
    "            #if the random number is less than the odds of landing on the right,\n",
    "            #then the ball lands on the right\n",
    "            pos[r < self.odds_right] += 1\n",
    "            pos[r >= self.odds_right] -= 1\n",
    "\n",
    "        return pos/2.0/np.sqrt(self.n_steps)\n"
   ]
  },
  {
   "cell_type": "code",
   "execution_count": 142,
   "metadata": {},
   "outputs": [],
   "source": [
    "n_steps_big = 30\n",
    "n_steps_small = 5\n",
    "# bins_big = np.linspace(-n_steps_big-0.5, n_steps_big+0.5, 2*n_steps_big+2)\n",
    "g_big = Galton(n_steps=n_steps_big, odds_right=0.5)\n",
    "# bins_small = np.linspace(-n_steps_small-0.5, n_steps_small+0.5, 2*n_steps_small+2)\n",
    "g_small = Galton(n_steps=n_steps_small, odds_right=0.5)"
   ]
  },
  {
   "cell_type": "code",
   "execution_count": 143,
   "metadata": {},
   "outputs": [],
   "source": [
    "n_balls_big = 1.e4\n",
    "n_balls_small = 1.e4\n",
    "pos_big = g_big.simulate(n_balls=n_balls_big)\n",
    "pos_small = g_small.simulate(n_balls=n_balls_small)"
   ]
  },
  {
   "cell_type": "code",
   "execution_count": 147,
   "metadata": {},
   "outputs": [],
   "source": [
    "bins = np.linspace(-3,3,7)"
   ]
  },
  {
   "cell_type": "code",
   "execution_count": 148,
   "metadata": {},
   "outputs": [
    {
     "data": {
      "image/png": "[encoded data removed]",
      "text/plain": [
       "<Figure size 432x288 with 1 Axes>"
      ]
     },
     "metadata": {
      "needs_background": "light"
     },
     "output_type": "display_data"
    }
   ],
   "source": [
    "plt.hist(pos_big, bins=bins,label=\"n_steps = {}, n_balls = {}, prob_right = {}\".format(n_steps_big, n_balls_big, g_big.odds_right))\n",
    "plt.hist(pos_small, bins=bins, label=\"n_steps = {}, n_balls = {}, prob_right = {}\".format(n_steps_small, n_balls_small, g_small.odds_right), alpha=0.5)\n",
    "plt.legend()\n",
    "plt.show()"
   ]
  },
  {
   "cell_type": "code",
   "execution_count": 258,
   "metadata": {},
   "outputs": [],
   "source": [
    "def label_sample_split(alpha, beta, Ntot, samples0_0, samples0_1, samples1_0, samples1_1):\n",
    "    \"\"\"\n",
    "    Calculate the number of samples from each probability for a given alpha, beta, and Ntot in order to have equal numbers of samples from\n",
    "    each resolution (assuming n_prob1_highres = n_prob1_lowres, n_prob2_highres = n_prob2_lowres)\n",
    "\n",
    "    Inputs: \n",
    "    alpha - label splitting parameter\n",
    "    beta - sensitive attribute splitting parameter\n",
    "    Ntot - total number of samples\n",
    "    samples0_0 - samples from the first probability with sensitive attribute 0\n",
    "    samples0_1 - samples from the first probability with sensitive attribute 1\n",
    "    samples1_0 - samples from the second probability with sensitive attribute 0\n",
    "    samples1_1 - samples from the second probability with sensitive attribute 1\n",
    "\n",
    "    Returns: total samples\n",
    "    \"\"\"\n",
    "    #! there are all sorts of divide by 0 issues here.\n",
    "    #todo: add special cases for alpha = 0 and beta = 0 etc.\n",
    "    \n",
    "    n0 = Ntot*(1 - alpha - beta) / (2.0*(2*alpha-1)*(beta**2 - beta))\n",
    "    n1 = n0 * (alpha-beta)/(alpha + beta - 1)\n",
    "\n",
    "    data_0 = np.concatenate((np.random.choice(samples0_0, round(n0*alpha)), np.random.choice(samples1_0, round(n1*(1-alpha))))) #data with sensitive attribute 0\n",
    "    data_1 = np.concatenate((np.random.choice(samples0_1, round(n0*(1-alpha))), np.random.choice(samples1_1, round(n1*alpha)))) #data with sensitive attribute 1\n",
    "\n",
    "\n",
    "    return np.concatenate((np.random.choice(data_0,round(beta*Ntot)), np.random.choice(data_1,round((1-beta)*Ntot))))"
   ]
  },
  {
   "cell_type": "markdown",
   "metadata": {},
   "source": [
    "<!-- run N dimensional galton board. Independent runs -->\n",
    "Testing \n",
    "Run binary classifier to see if skewed\n",
    "plot classifier output vs x for relative resolutions"
   ]
  },
  {
   "cell_type": "code",
   "execution_count": 259,
   "metadata": {},
   "outputs": [],
   "source": [
    "samples0_0 = np.random.uniform(0,1,40)\n",
    "samples0_1 = np.random.uniform(0,1,4)\n",
    "samples1_0 = np.random.uniform(-1,0,40)\n",
    "samples1_1 = np.random.uniform(-1,0,4)"
   ]
  },
  {
   "cell_type": "code",
   "execution_count": 260,
   "metadata": {},
   "outputs": [
    {
     "data": {
      "text/plain": [
       "array([-0.48005099, -0.04428711, -0.18046086,  0.94196872,  0.52373665,\n",
       "        0.15977847,  0.58005773,  0.58005773,  0.58005773,  0.52373665])"
      ]
     },
     "execution_count": 260,
     "metadata": {},
     "output_type": "execute_result"
    }
   ],
   "source": [
    "label_sample_split(0.2, 0.4, 10, samples0_0, samples0_1, samples1_0, samples1_1)"
   ]
  },
  {
   "cell_type": "markdown",
   "metadata": {},
   "source": [
    "sensitive: number of steps\n",
    "label: probablities\n",
    "4 boards, equally weighted. Fraction of 50/50 high res.\n",
    "\n",
    "num5050 = num6040\n",
    "num5050_30 = num5050_5\n",
    "num6040_30 = num6040_5\n",
    "\n",
    "datansteps30 = (alpha)num505030 + (1-alpha)num604030\n",
    "datansteps5 = (1-alpha)num50505 + (alpha)num60405\n",
    "\n",
    "datatot = (beta)datansteps30 + (1-beta)datansteps5"
   ]
  },
  {
   "cell_type": "code",
   "execution_count": null,
   "metadata": {},
   "outputs": [],
   "source": [
    "beta*(alpha*num_50 + (1-alpha)num_60) = (1-beta)((1-alpha)num_50 + (alpha)num_60)"
   ]
  },
  {
   "cell_type": "code",
   "execution_count": null,
   "metadata": {},
   "outputs": [],
   "source": []
  }
 ],
 "metadata": {
  "interpreter": {
   "hash": "8fee2622e3a8bc633187b5e9aed404d2594001afbad9b4a3b37a820e05bbe52a"
  },
  "kernelspec": {
   "display_name": "Python 3.7.7 64-bit ('.venv': venv)",
   "language": "python",
   "name": "python3"
  },
  "language_info": {
   "codemirror_mode": {
    "name": "ipython",
    "version": 3
   },
   "file_extension": ".py",
   "mimetype": "text/x-python",
   "name": "python",
   "nbconvert_exporter": "python",
   "pygments_lexer": "ipython3",
   "version": "3.7.7"
  },
  "orig_nbformat": 4
 },
 "nbformat": 4,
 "nbformat_minor": 2
}
