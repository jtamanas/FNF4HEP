{
 "cells": [
  {
   "cell_type": "code",
   "execution_count": 66,
   "id": "23e19334-529c-49da-85e7-39a68d44dbbf",
   "metadata": {},
   "outputs": [
    {
     "name": "stdout",
     "output_type": "stream",
     "text": [
      "The autoreload extension is already loaded. To reload it, use:\n",
      "  %reload_ext autoreload\n"
     ]
    }
   ],
   "source": [
    "import torch\n",
    "from torch.utils.data import TensorDataset\n",
    "import numpy as np\n",
    "import matplotlib.pyplot as plt\n",
    "from models.my_fair import BinaryFair\n",
    "from models.flow import Flow\n",
    "from models.classifier import BinaryClassifier\n",
    "from utils.StatisticalDistance import EmpiricalStatisticalDistance\n",
    "from sklearn.manifold import TSNE, SpectralEmbedding\n",
    "from sklearn.metrics import accuracy_score\n",
    "from sklearn.model_selection import train_test_split\n",
    "from tqdm.auto import trange\n",
    "from utils.DataSplitting import *\n",
    "\n",
    "%load_ext autoreload\n",
    "%autoreload 2"
   ]
  },
  {
   "cell_type": "code",
   "execution_count": 2,
   "id": "90779653",
   "metadata": {},
   "outputs": [],
   "source": [
    "# TODO: Trim the fluff from this notebook and use new pipeline for everything\n",
    "#Minimally working though which is great!"
   ]
  },
  {
   "cell_type": "code",
   "execution_count": 67,
   "id": "992984bc",
   "metadata": {},
   "outputs": [],
   "source": [
    "data_file = torch.load(\"data/Crime/data.pt\")"
   ]
  },
  {
   "cell_type": "code",
   "execution_count": 4,
   "id": "25669868",
   "metadata": {},
   "outputs": [],
   "source": [
    "# X_embedded = TSNE(n_components=2).fit_transform(data_file['data'])\n",
    "# plt.scatter(*X_embedded.T, c=data_file['context'], alpha=0.07, cmap='coolwarm')"
   ]
  },
  {
   "cell_type": "code",
   "execution_count": 68,
   "id": "2dcb1498",
   "metadata": {},
   "outputs": [],
   "source": [
    "data_tot = data_file['data']\n",
    "context_tot = data_file['context']\n",
    "labels_tot = data_file['labels']"
   ]
  },
  {
   "cell_type": "code",
   "execution_count": 69,
   "id": "e68abc69",
   "metadata": {},
   "outputs": [],
   "source": [
    "data_train, data_test, context_train, context_test, labels_train, labels_test = train_test_split(data_tot, context_tot, labels_tot, test_size=0.2)\n",
    "data_test, data_val, context_test, context_val, labels_test, labels_val = train_test_split(data_test, context_test, labels_test, test_size=0.5)"
   ]
  },
  {
   "cell_type": "code",
   "execution_count": 70,
   "id": "44089fd8-fde9-4f69-aec4-684331944152",
   "metadata": {},
   "outputs": [],
   "source": [
    "# Parameters\n",
    "params = {'batch_size': 64,\n",
    "          'shuffle': True}\n",
    "\n",
    "# Split data by label\n",
    "data_0 = data_train[context_train.flatten()==0]\n",
    "labels_0 = labels_train[context_train.flatten()==0]\n",
    "context_0 = context_train[context_train.flatten()==0]\n",
    "\n",
    "data_1 = data_train[context_train.flatten()==1]\n",
    "labels_1 = labels_train[context_train.flatten()==1]\n",
    "context_1 = context_train[context_train.flatten()==1]\n",
    "\n",
    "data_0_test = data_test[context_test.flatten()==0]\n",
    "labels_0_test = labels_test[context_test.flatten()==0]\n",
    "context_0_test = context_test[context_test.flatten()==0]\n",
    "\n",
    "data_1_test = data_test[context_test.flatten()==1]\n",
    "labels_1_test = labels_test[context_test.flatten()==1]\n",
    "context_1_test = context_test[context_test.flatten()==1]\n",
    "\n",
    "data_0_val = data_val[context_val.flatten()==0]\n",
    "labels_0_val = labels_val[context_val.flatten()==0]\n",
    "context_0_val = context_val[context_val.flatten()==0]\n",
    "\n",
    "data_1_val = data_val[context_val.flatten()==1]\n",
    "labels_1_val = labels_val[context_val.flatten()==1]\n",
    "context_1_val = context_val[context_val.flatten()==1]\n",
    "\n",
    "# Generators\n",
    "label_0_set = TensorDataset(data_0, labels_0, context_0)\n",
    "label_0_generator = torch.utils.data.DataLoader(label_0_set, **params)\n",
    "\n",
    "label_1_set = TensorDataset(data_1, labels_1, context_1)\n",
    "label_1_generator = torch.utils.data.DataLoader(label_1_set, **params)\n",
    "\n",
    "label_0_set_test = TensorDataset(data_0_test, labels_0_test, context_0_test)\n",
    "label_0_generator_test = torch.utils.data.DataLoader(label_0_set_test, **params)\n",
    "\n",
    "label_1_set_test = TensorDataset(data_1_test, labels_1_test, context_1_test)\n",
    "label_1_generator_test = torch.utils.data.DataLoader(label_1_set_test, **params)\n",
    "\n",
    "label_0_set_val = TensorDataset(data_0_val, labels_0_val, context_0_val)\n",
    "label_0_generator_val = torch.utils.data.DataLoader(label_0_set_val, **params)\n",
    "\n",
    "label_1_set_val = TensorDataset(data_1_val, labels_1_val, context_1_val)\n",
    "label_1_generator_val = torch.utils.data.DataLoader(label_1_set_val, **params)\n",
    "\n"
   ]
  },
  {
   "cell_type": "code",
   "execution_count": 7,
   "id": "ad564019",
   "metadata": {},
   "outputs": [],
   "source": [
    "# Parameters\n",
    "# params = {'batch_size': 64,\n",
    "        #   'shuffle': True}\n",
    "\n",
    "# Generators\n",
    "# data_set_train = TensorDataset(data_train, context_train)\n",
    "# data_generator_train = torch.utils.data.DataLoader(data_set_train, **params)\n",
    "\n",
    "# data_set_test = TensorDataset(data_test, context_test)\n",
    "# data_generator_test = torch.utils.data.DataLoader(data_set_test, **params)\n",
    "\n",
    "# data_set_val = TensorDataset(data_val, context_val)\n",
    "# data_generator_val = torch.utils.data.DataLoader(data_set_val, **params)"
   ]
  },
  {
   "cell_type": "code",
   "execution_count": 71,
   "id": "e2874301",
   "metadata": {},
   "outputs": [
    {
     "name": "stderr",
     "output_type": "stream",
     "text": [
      " 18%|█▊        | 8999/50000 [00:09<00:42, 976.07it/s] \n"
     ]
    },
    {
     "name": "stdout",
     "output_type": "stream",
     "text": [
      "Early stopping reached after 18 epochs\n"
     ]
    },
    {
     "name": "stderr",
     "output_type": "stream",
     "text": [
      " 18%|█▊        | 8999/50000 [00:09<00:42, 975.75it/s] "
     ]
    },
    {
     "name": "stdout",
     "output_type": "stream",
     "text": [
      "Early stopping reached after 18 epochs\n",
      "Label accuracy: 0.8592965006828308 Adversarial accuracy: 0.9497487545013428\n"
     ]
    },
    {
     "name": "stderr",
     "output_type": "stream",
     "text": [
      "\n"
     ]
    }
   ],
   "source": [
    "data_set_labels_train = TensorDataset(data_train, labels_train.squeeze()) #For label classifier, use data and labels but not context\n",
    "data_generator_labels_train = torch.utils.data.DataLoader(data_set_labels_train, **params)\n",
    "\n",
    "data_set_labels_val = TensorDataset(data_val, labels_val.squeeze()) #For label classifier, use data and labels but not context\n",
    "data_generator_labels_val = torch.utils.data.DataLoader(data_set_labels_val, **params)\n",
    "\n",
    "data_set_context_train = TensorDataset(data_train, context_train.squeeze()) #For adversairal classifier, use data and context but not labels\n",
    "data_generator_context_train = torch.utils.data.DataLoader(data_set_context_train, **params)\n",
    "\n",
    "data_set_context_val = TensorDataset(data_val, context_val.squeeze()) #For adversairal classifier, use data and context but not labels\n",
    "data_generator_context_val = torch.utils.data.DataLoader(data_set_context_val, **params)\n",
    "\n",
    "label_classifier = BinaryClassifier(data_dim=data_train.shape[-1])\n",
    "label_classifier.fit(data_generator_labels_train, data_generator_labels_val)\n",
    "\n",
    "adversarial_classifier = BinaryClassifier(data_dim=data_train.shape[-1])\n",
    "adversarial_classifier.fit(data_generator_context_train, data_generator_context_val)\n",
    "\n",
    "baseline_label_acc = label_classifier.accuracy(data_test, labels_test.squeeze())\n",
    "baseline_adv_acc = adversarial_classifier.accuracy(data_test, context_test.squeeze())\n",
    "\n",
    "print(\"Label accuracy:\", baseline_label_acc, \"Adversarial accuracy:\", baseline_adv_acc)\n"
   ]
  },
  {
   "cell_type": "code",
   "execution_count": 72,
   "id": "7e5b1d73",
   "metadata": {},
   "outputs": [],
   "source": [
    "data_set_context_train = TensorDataset(data_train, labels_train, context_train) #For probability flow, learn distributions conditioned on context\n",
    "data_generator_context_train = torch.utils.data.DataLoader(data_set_context_train, **params)\n",
    "\n",
    "data_set_val = TensorDataset(data_val, labels_val, context_val)\n",
    "data_generator_val = torch.utils.data.DataLoader(data_set_val, **params)"
   ]
  },
  {
   "cell_type": "code",
   "execution_count": 73,
   "id": "c0bfa6cc",
   "metadata": {},
   "outputs": [],
   "source": [
    "probability_flow = Flow(data_dim=data_train.shape[-1], \n",
    "                  context_dim=context_train.shape[-1], #for alpha=1 the labels and contexts are the same\n",
    "                  n_layers = 3,\n",
    "                  transform_type = 'MaskedPiecewiseQuadraticAutoregressiveTransform', # ? Try Rational quadratic?\n",
    "                  num_bins = 50,\n",
    "                  tails='linear',\n",
    "                  tail_bound=6.0,\n",
    "                  gamma = 0.01,\n",
    "        )"
   ]
  },
  {
   "cell_type": "code",
   "execution_count": 74,
   "id": "1d35bec1",
   "metadata": {},
   "outputs": [
    {
     "name": "stderr",
     "output_type": "stream",
     "text": [
      " 20%|█▉        | 1999/10000 [01:02<04:09, 32.09it/s]"
     ]
    },
    {
     "name": "stdout",
     "output_type": "stream",
     "text": [
      "Early stopping reached after 20 epochs\n"
     ]
    },
    {
     "name": "stderr",
     "output_type": "stream",
     "text": [
      "\n"
     ]
    }
   ],
   "source": [
    "tot_loss, mle_loss, label_loss = probability_flow.fit_prob_flow(\n",
    "        data_generator_context_train,\n",
    "        data_generator_val,\n",
    "        lr=1e-4,\n",
    "        weight_decay=1e-4,\n",
    "        max_num_epochs=100,\n",
    "        n_steps_per_epoch=int(1e2),\n",
    "        patience=10,)"
   ]
  },
  {
   "cell_type": "code",
   "execution_count": 49,
   "id": "05df4a78",
   "metadata": {},
   "outputs": [
    {
     "data": {
      "image/png": "[encoded data removed]",
      "text/plain": [
       "<Figure size 432x288 with 1 Axes>"
      ]
     },
     "metadata": {
      "needs_background": "light"
     },
     "output_type": "display_data"
    }
   ],
   "source": [
    "plt.plot(tot_loss, label=\"total validation loss\")\n",
    "plt.plot(mle_loss, label=\"flow loss\")\n",
    "plt.plot(label_loss, label=\"classifier loss\")\n",
    "\n",
    "xlims = plt.xlim()\n",
    "ylims = plt.ylim()\n",
    "plt.legend()\n",
    "plt.show()"
   ]
  },
  {
   "cell_type": "code",
   "execution_count": 76,
   "id": "6478792b",
   "metadata": {},
   "outputs": [],
   "source": [
    "with torch.no_grad():\n",
    "    embedded_data_train, _ = probability_flow._transform(data_train, context_train)\n",
    "    embedded_data_val,_ = probability_flow._transform(data_val, context_val)\n",
    "    embedded_data_test, _ = probability_flow._transform(data_test, context_test)\n",
    "embedded_data_set_labels_train = TensorDataset(embedded_data_train, labels_train.squeeze()) #For label classifier, use data and labels but not context\n",
    "embedded_data_generator_labels_train = torch.utils.data.DataLoader(embedded_data_set_labels_train, **params)\n",
    "\n",
    "embedded_data_set_labels_val = TensorDataset(embedded_data_val, labels_val.squeeze()) #For adversairal classifier, use data and context but not labels\n",
    "embedded_data_generator_labels_val = torch.utils.data.DataLoader(embedded_data_set_labels_val, **params)\n",
    "\n",
    "embedded_data_set_context_val = TensorDataset(embedded_data_val, context_val.squeeze()) #For adversairal classifier, use data and context but not labels\n",
    "embedded_data_generator_context_val = torch.utils.data.DataLoader(embedded_data_set_context_val, **params)\n",
    "\n",
    "embedded_data_set_context_train = TensorDataset(embedded_data_train, context_train.squeeze()) #For adversairal classifier, use data and context but not labels\n",
    "embedded_data_generator_context_train = torch.utils.data.DataLoader(embedded_data_set_context_train, **params)"
   ]
  },
  {
   "cell_type": "code",
   "execution_count": 77,
   "id": "620fe3e3",
   "metadata": {},
   "outputs": [
    {
     "name": "stderr",
     "output_type": "stream",
     "text": [
      " 22%|██▏       | 10999/50000 [00:10<00:38, 1003.72it/s]\n"
     ]
    },
    {
     "name": "stdout",
     "output_type": "stream",
     "text": [
      "Early stopping reached after 22 epochs\n"
     ]
    },
    {
     "name": "stderr",
     "output_type": "stream",
     "text": [
      " 25%|██▍       | 12499/50000 [00:13<00:39, 951.10it/s] "
     ]
    },
    {
     "name": "stdout",
     "output_type": "stream",
     "text": [
      "Early stopping reached after 25 epochs\n",
      "P-flow Label accuracy: 0.8592965006828308 P-flow Adversarial accuracy: 0.8944723606109619\n"
     ]
    },
    {
     "name": "stderr",
     "output_type": "stream",
     "text": [
      "\n"
     ]
    }
   ],
   "source": [
    "#Get label and adversarial accuracy on embedded data (gamma = 0.5)\n",
    "label_classifier = BinaryClassifier(data_dim=embedded_data_train.shape[-1])\n",
    "label_classifier.fit(embedded_data_generator_labels_train, embedded_data_generator_labels_val)\n",
    "\n",
    "adversarial_classifier = BinaryClassifier(data_dim=embedded_data_train.shape[-1])\n",
    "adversarial_classifier.fit(embedded_data_generator_context_train, embedded_data_generator_context_val)\n",
    "\n",
    "probability_embedded_label_acc = label_classifier.accuracy(embedded_data_test, labels_test.squeeze())\n",
    "probability_adv_acc = adversarial_classifier.accuracy(embedded_data_test, context_test.squeeze())\n",
    "\n",
    "print(\"P-flow Label accuracy:\", probability_embedded_label_acc, \"P-flow Adversarial accuracy:\", probability_adv_acc)\n"
   ]
  },
  {
   "cell_type": "markdown",
   "id": "e90e5bf7",
   "metadata": {},
   "source": [
    "## Multiple $\\gamma$ runs"
   ]
  },
  {
   "cell_type": "code",
   "execution_count": 78,
   "id": "e4a2c85a",
   "metadata": {},
   "outputs": [],
   "source": [
    "gammas = [0.0, 0.02, 0.1, 0.2, 0.9, 1.0]\n",
    "# gammas = [0.0, 0.02, 0.05, 0.1, 0.2]\n",
    "prob_flows = []"
   ]
  },
  {
   "cell_type": "code",
   "execution_count": 79,
   "id": "7899aca7",
   "metadata": {},
   "outputs": [
    {
     "name": "stderr",
     "output_type": "stream",
     "text": [
      " 29%|██▉       | 2899/10000 [01:27<03:33, 33.20it/s]\n"
     ]
    },
    {
     "name": "stdout",
     "output_type": "stream",
     "text": [
      "Early stopping reached after 29 epochs\n"
     ]
    },
    {
     "name": "stderr",
     "output_type": "stream",
     "text": [
      " 34%|███▍      | 3399/10000 [01:39<03:14, 34.01it/s]\n"
     ]
    },
    {
     "name": "stdout",
     "output_type": "stream",
     "text": [
      "Early stopping reached after 34 epochs\n"
     ]
    },
    {
     "name": "stderr",
     "output_type": "stream",
     "text": [
      " 60%|█████▉    | 5999/10000 [02:55<01:57, 34.13it/s]\n"
     ]
    },
    {
     "name": "stdout",
     "output_type": "stream",
     "text": [
      "Early stopping reached after 60 epochs\n"
     ]
    },
    {
     "name": "stderr",
     "output_type": "stream",
     "text": [
      " 26%|██▌       | 2599/10000 [01:16<03:37, 34.10it/s]\n"
     ]
    },
    {
     "name": "stdout",
     "output_type": "stream",
     "text": [
      "Early stopping reached after 26 epochs\n"
     ]
    },
    {
     "name": "stderr",
     "output_type": "stream",
     "text": [
      " 28%|██▊       | 2799/10000 [01:20<03:27, 34.71it/s]\n"
     ]
    },
    {
     "name": "stdout",
     "output_type": "stream",
     "text": [
      "Early stopping reached after 28 epochs\n"
     ]
    },
    {
     "name": "stderr",
     "output_type": "stream",
     "text": [
      " 57%|█████▋    | 5699/10000 [02:42<02:02, 34.99it/s]"
     ]
    },
    {
     "name": "stdout",
     "output_type": "stream",
     "text": [
      "Early stopping reached after 57 epochs\n"
     ]
    },
    {
     "name": "stderr",
     "output_type": "stream",
     "text": [
      "\n"
     ]
    }
   ],
   "source": [
    "#todo Add patience parameter instead of num_epochs\n",
    "val_losses = []\n",
    "for gamma in gammas:\n",
    "    probability_flow = Flow(data_dim=data_train.shape[-1], \n",
    "                  context_dim=context_train.shape[-1], #for alpha=1 the labels and contexts are the same\n",
    "                  n_layers = 3,\n",
    "                  transform_type = 'MaskedPiecewiseQuadraticAutoregressiveTransform', # ? Try Rational quadratic?\n",
    "                  num_bins = 50,\n",
    "                  tails='linear',\n",
    "                  tail_bound=6.0,\n",
    "                  gamma = gamma,\n",
    "        )\n",
    "    \n",
    "    tot_loss, mle_loss, label_loss = probability_flow.fit_prob_flow(\n",
    "        data_generator_context_train,\n",
    "        data_generator_val,\n",
    "        lr=1e-4,\n",
    "        weight_decay=1e-4,\n",
    "        max_num_epochs=100,\n",
    "        n_steps_per_epoch=int(1e2),\n",
    "        patience=10,)\n",
    "\n",
    "    val_losses.append(tot_loss)\n",
    "    prob_flows.append(probability_flow)\n"
   ]
  },
  {
   "cell_type": "code",
   "execution_count": 61,
   "id": "4a6c2280",
   "metadata": {},
   "outputs": [
    {
     "data": {
      "text/plain": [
       "[<matplotlib.lines.Line2D at 0x7fe5b9935310>]"
      ]
     },
     "execution_count": 61,
     "metadata": {},
     "output_type": "execute_result"
    },
    {
     "data": {
      "image/png": "[encoded data removed]",
      "text/plain": [
       "<Figure size 432x288 with 1 Axes>"
      ]
     },
     "metadata": {
      "needs_background": "light"
     },
     "output_type": "display_data"
    }
   ],
   "source": [
    "plt.plot(val_losses[-1], label=\"validation loss\")"
   ]
  },
  {
   "cell_type": "code",
   "execution_count": 80,
   "id": "b24d080a",
   "metadata": {},
   "outputs": [
    {
     "name": "stderr",
     "output_type": "stream",
     "text": [
      " 16%|█▌        | 7999/50000 [00:07<00:41, 1001.40it/s]\n"
     ]
    },
    {
     "name": "stdout",
     "output_type": "stream",
     "text": [
      "Early stopping reached after 16 epochs\n"
     ]
    },
    {
     "name": "stderr",
     "output_type": "stream",
     "text": [
      "100%|██████████| 50000/50000 [00:50<00:00, 997.83it/s] \n"
     ]
    },
    {
     "name": "stdout",
     "output_type": "stream",
     "text": [
      "Training finished after 100 epochs (max_num_epochs)\n"
     ]
    },
    {
     "name": "stderr",
     "output_type": "stream",
     "text": [
      " 38%|███▊      | 18999/50000 [00:19<00:32, 951.04it/s] \n"
     ]
    },
    {
     "name": "stdout",
     "output_type": "stream",
     "text": [
      "Early stopping reached after 38 epochs\n"
     ]
    },
    {
     "name": "stderr",
     "output_type": "stream",
     "text": [
      "100%|██████████| 50000/50000 [00:50<00:00, 994.95it/s] \n"
     ]
    },
    {
     "name": "stdout",
     "output_type": "stream",
     "text": [
      "Training finished after 100 epochs (max_num_epochs)\n"
     ]
    },
    {
     "name": "stderr",
     "output_type": "stream",
     "text": [
      " 36%|███▌      | 17999/50000 [00:18<00:33, 967.28it/s] \n"
     ]
    },
    {
     "name": "stdout",
     "output_type": "stream",
     "text": [
      "Early stopping reached after 36 epochs\n"
     ]
    },
    {
     "name": "stderr",
     "output_type": "stream",
     "text": [
      " 90%|████████▉ | 44999/50000 [00:45<00:05, 992.01it/s] \n"
     ]
    },
    {
     "name": "stdout",
     "output_type": "stream",
     "text": [
      "Early stopping reached after 90 epochs\n"
     ]
    },
    {
     "name": "stderr",
     "output_type": "stream",
     "text": [
      " 41%|████      | 20499/50000 [00:20<00:29, 1010.35it/s]\n"
     ]
    },
    {
     "name": "stdout",
     "output_type": "stream",
     "text": [
      "Early stopping reached after 41 epochs\n"
     ]
    },
    {
     "name": "stderr",
     "output_type": "stream",
     "text": [
      "100%|██████████| 50000/50000 [00:49<00:00, 1010.98it/s]\n"
     ]
    },
    {
     "name": "stdout",
     "output_type": "stream",
     "text": [
      "Training finished after 100 epochs (max_num_epochs)\n"
     ]
    },
    {
     "name": "stderr",
     "output_type": "stream",
     "text": [
      " 32%|███▏      | 15999/50000 [00:16<00:34, 982.04it/s] \n"
     ]
    },
    {
     "name": "stdout",
     "output_type": "stream",
     "text": [
      "Early stopping reached after 32 epochs\n"
     ]
    },
    {
     "name": "stderr",
     "output_type": "stream",
     "text": [
      " 25%|██▍       | 12499/50000 [00:13<00:40, 917.20it/s] \n"
     ]
    },
    {
     "name": "stdout",
     "output_type": "stream",
     "text": [
      "Early stopping reached after 25 epochs\n"
     ]
    },
    {
     "name": "stderr",
     "output_type": "stream",
     "text": [
      " 16%|█▌        | 7999/50000 [00:07<00:41, 1008.53it/s]\n"
     ]
    },
    {
     "name": "stdout",
     "output_type": "stream",
     "text": [
      "Early stopping reached after 16 epochs\n"
     ]
    },
    {
     "name": "stderr",
     "output_type": "stream",
     "text": [
      "100%|██████████| 50000/50000 [00:51<00:00, 970.46it/s] "
     ]
    },
    {
     "name": "stdout",
     "output_type": "stream",
     "text": [
      "Training finished after 100 epochs (max_num_epochs)\n"
     ]
    },
    {
     "name": "stderr",
     "output_type": "stream",
     "text": [
      "\n"
     ]
    }
   ],
   "source": [
    "label_accs = []\n",
    "adv_accs = []\n",
    "for prob_flow in prob_flows:\n",
    "\n",
    "    with torch.no_grad():\n",
    "        embedded_data_train, _ = prob_flow._transform(data_train, context_train)\n",
    "        embedded_data_val, _ = prob_flow._transform(data_val, context_val)\n",
    "        embedded_data_test, _ = prob_flow._transform(data_test, context_test)\n",
    "\n",
    "    embedded_data_set_labels_train = TensorDataset(embedded_data_train, labels_train.squeeze()) #For label classifier, use data and labels but not context\n",
    "    embedded_data_generator_labels_train = torch.utils.data.DataLoader(embedded_data_set_labels_train, **params)\n",
    "\n",
    "    embedded_data_set_labels_val = TensorDataset(embedded_data_val, labels_val.squeeze()) \n",
    "    embedded_data_generator_labels_val = torch.utils.data.DataLoader(embedded_data_set_labels_val, **params)\n",
    "\n",
    "    embedded_data_set_context_val = TensorDataset(embedded_data_val, context_val.squeeze())\n",
    "    embedded_data_generator_context_val = torch.utils.data.DataLoader(embedded_data_set_context_val, **params)\n",
    "\n",
    "    embedded_data_set_context_train = TensorDataset(embedded_data_train, context_train.squeeze()) #For adversairal classifier, use data and context but not labels\n",
    "    embedded_data_generator_context_train = torch.utils.data.DataLoader(embedded_data_set_context_train, **params)\n",
    "\n",
    "    label_classifier = BinaryClassifier(data_dim=embedded_data_train.shape[-1])\n",
    "    label_classifier.fit(embedded_data_generator_labels_train, embedded_data_set_labels_val, patience=15)\n",
    "\n",
    "    adversarial_classifier = BinaryClassifier(data_dim=embedded_data_train.shape[-1])\n",
    "    adversarial_classifier.fit(embedded_data_generator_context_train,embedded_data_set_context_val, patience=15)\n",
    "\n",
    "    probability_embedded_label_acc = label_classifier.accuracy(embedded_data_test, labels_test.squeeze())\n",
    "    probability_adv_acc = adversarial_classifier.accuracy(embedded_data_test, context_test.squeeze())\n",
    "\n",
    "    label_accs.append(probability_embedded_label_acc)\n",
    "    adv_accs.append(probability_adv_acc)"
   ]
  },
  {
   "cell_type": "code",
   "execution_count": 83,
   "id": "325db18b",
   "metadata": {},
   "outputs": [
    {
     "data": {
      "image/png": "[encoded data removed]",
      "text/plain": [
       "<Figure size 432x288 with 1 Axes>"
      ]
     },
     "metadata": {
      "needs_background": "light"
     },
     "output_type": "display_data"
    }
   ],
   "source": [
    "plt.plot(gammas, label_accs, label='embedded label accuracy')\n",
    "plt.plot(gammas, adv_accs, label='adversarial accuracy')\n",
    "plt.plot(np.linspace(0,1.0,10),np.ones(10)*baseline_label_acc, 'k--', label='baseline label accuracy')\n",
    "plt.plot(np.linspace(0,1.0,10),np.ones(10)*baseline_adv_acc, 'k-.', label='baseline adv accuracy')\n",
    "\n",
    "plt.xlabel('gamma')\n",
    "plt.ylabel('Accuracy')\n",
    "\n",
    "plt.legend(frameon=False)\n",
    "plt.title('crime data')\n",
    "# plt.savefig('prob_flow_crime_accuracy_patience.png')\n",
    "\n",
    "plt.show()"
   ]
  },
  {
   "cell_type": "markdown",
   "id": "fb3e1e67",
   "metadata": {},
   "source": [
    "## Old"
   ]
  },
  {
   "cell_type": "code",
   "execution_count": 27,
   "id": "bebcb88c",
   "metadata": {},
   "outputs": [
    {
     "name": "stdout",
     "output_type": "stream",
     "text": [
      "[1.0, 0.59375, 0.484375, 0.234375, 0.28125]\n"
     ]
    }
   ],
   "source": [
    "data_0_test, labels_0_test, context_0_test = next(iter(label_0_generator_test))\n",
    "data_1_test, labels_1_test, context_1_test = next(iter(label_1_generator_test))\n",
    "stat_dists=[]\n",
    "mu0s_arr=[]\n",
    "mu1s_arr=[]\n",
    "\n",
    "for fair in Fairs:\n",
    "    stat_dist, mu0s, mu1s = fair.optimal_adversary(label_0_generator_test, label_1_generator_test,probability_func=probability_flow)\n",
    "    mu0s_arr.append(mu0s.sum().item()/len(mu0s))\n",
    "    mu1s_arr.append(mu1s.sum().item()/len(mu1s))\n",
    "    stat_dists.append(abs(stat_dist.item()))\n",
    "print(stat_dists)"
   ]
  },
  {
   "cell_type": "code",
   "execution_count": null,
   "id": "473f56ba",
   "metadata": {},
   "outputs": [
    {
     "name": "stdout",
     "output_type": "stream",
     "text": [
      "[0.8125, 0.3203125, 0.1484375, 0.109375]\n"
     ]
    }
   ],
   "source": [
    "data_0_test, labels_0_test, context_0_test = next(iter(label_0_generator_test))\n",
    "data_1_test, labels_1_test, context_1_test = next(iter(label_1_generator_test))\n",
    "stat_dists=[]\n",
    "mu0s_arr=[]\n",
    "mu1s_arr=[]\n",
    "\n",
    "for fair in Fairs:\n",
    "    stat_dist, mu0s, mu1s = fair.optimal_adversary(data_0_test, data_1_test, context_0=context_0_test, context_1=context_1_test, probability_flow=probability_flow)\n",
    "    mu0s_arr.append(mu0s.sum().item()/len(mu0s))\n",
    "    mu1s_arr.append(mu1s.sum().item()/len(mu1s))\n",
    "    stat_dists.append(abs(stat_dist.item()))\n",
    "print(stat_dists)"
   ]
  },
  {
   "cell_type": "code",
   "execution_count": 28,
   "id": "2e6f9afe",
   "metadata": {},
   "outputs": [
    {
     "name": "stderr",
     "output_type": "stream",
     "text": [
      "100%|██████████| 100/100 [00:04<00:00, 21.36it/s]"
     ]
    },
    {
     "name": "stdout",
     "output_type": "stream",
     "text": [
      "Training set accuracy: 0.610\n",
      "Test set accuracy: 0.581\n"
     ]
    },
    {
     "name": "stderr",
     "output_type": "stream",
     "text": [
      "\n"
     ]
    }
   ],
   "source": [
    "with torch.no_grad():\n",
    "    idx = (data_file[\"context\"] == 0).flatten()\n",
    "    embedding_0, embedding_1 = Fair._embed(\n",
    "        data_file[\"data\"][idx], data_file[\"data\"][~idx], context_0=data_file[\"context\"][idx], context_1=data_file[\"context\"][~idx])\n",
    "\n",
    "acc_test = EmpiricalStatisticalDistance(\n",
    "    embedding_0, embedding_1, hidden_dim=64, n_layers=5, n_epochs=100, report_accuracy=True\n",
    ")"
   ]
  },
  {
   "cell_type": "code",
   "execution_count": null,
   "id": "f916435a",
   "metadata": {},
   "outputs": [],
   "source": [
    "accs = []\n",
    "for fair in Fairs:\n",
    "    with torch.no_grad():\n",
    "        idx = (data_file[\"context\"] == 0).flatten()\n",
    "        embedding_0, embedding_1 = fair._embed(\n",
    "            data_file[\"data\"][idx], data_file[\"data\"][~idx], context_0=data_file[\"context\"][idx], context_1=data_file[\"context\"][~idx])\n",
    "\n",
    "    acc_test = EmpiricalStatisticalDistance(\n",
    "        embedding_0, embedding_1, hidden_dim=64, n_layers=5, n_epochs=100, report_accuracy=True\n",
    "    )\n",
    "    accs.append(acc_test)"
   ]
  },
  {
   "cell_type": "code",
   "execution_count": 33,
   "id": "8040a3b0",
   "metadata": {},
   "outputs": [
    {
     "data": {
      "image/png": "[encoded data removed]",
      "text/plain": [
       "<Figure size 432x288 with 1 Axes>"
      ]
     },
     "metadata": {
      "needs_background": "light"
     },
     "output_type": "display_data"
    }
   ],
   "source": [
    "plt.plot(gammas, accs, '-o', color='orange')\n",
    "plt.xlim(0,1)\n",
    "plt.ylim(0.45,1)\n",
    "plt.xlabel('gamma')\n",
    "plt.ylabel('adversarial accuracy')\n",
    "plt.show()"
   ]
  },
  {
   "cell_type": "code",
   "execution_count": 36,
   "id": "dd2240f0",
   "metadata": {},
   "outputs": [
    {
     "data": {
      "image/png": "[encoded data removed]",
      "text/plain": [
       "<Figure size 432x288 with 1 Axes>"
      ]
     },
     "metadata": {
      "needs_background": "light"
     },
     "output_type": "display_data"
    }
   ],
   "source": [
    "plt.plot(stat_dists, accs, '-o', color='orange')\n",
    "plt.xlim(0,1)\n",
    "plt.ylim(0.45,1)\n",
    "plt.xlabel('statistical distance')\n",
    "plt.ylabel('adversarial accuracy')\n",
    "plt.title('crime_data_one_flow')\n",
    "plt.savefig('crime_data_one_flow.png')\n",
    "plt.show()\n"
   ]
  },
  {
   "cell_type": "code",
   "execution_count": null,
   "id": "12c3441a",
   "metadata": {},
   "outputs": [
    {
     "data": {
      "image/png": "[encoded data removed]",
      "text/plain": [
       "<Figure size 432x288 with 1 Axes>"
      ]
     },
     "metadata": {
      "needs_background": "light"
     },
     "output_type": "display_data"
    }
   ],
   "source": [
    "plt.plot(stat_dists, accs, '-o', color='orange')\n",
    "plt.xlim(0,1)\n",
    "plt.ylim(0.45,1)\n",
    "plt.xlabel('statistical distance')\n",
    "plt.ylabel('adversarial accuracy?')\n",
    "plt.show()"
   ]
  },
  {
   "cell_type": "markdown",
   "id": "0410b81f",
   "metadata": {},
   "source": [
    "add validation set (both to probability flow and FAIR)\n",
    "85, 10, 5"
   ]
  },
  {
   "cell_type": "markdown",
   "id": "a6bade7d",
   "metadata": {},
   "source": [
    "Check classifier accuracy (separate generation from analysis)\n",
    "torch.save model\n",
    "torch.load model\n",
    "rewrite splitting\n",
    "save probability flow separately"
   ]
  },
  {
   "cell_type": "code",
   "execution_count": 43,
   "id": "1638dbbb",
   "metadata": {},
   "outputs": [
    {
     "name": "stderr",
     "output_type": "stream",
     "text": [
      "100%|██████████| 10000/10000 [00:12<00:00, 807.41it/s]\n",
      "100%|██████████| 10000/10000 [00:12<00:00, 793.87it/s]\n",
      "100%|██████████| 10000/10000 [00:12<00:00, 791.53it/s]\n",
      "100%|██████████| 10000/10000 [00:12<00:00, 769.98it/s]\n",
      "100%|██████████| 10000/10000 [00:12<00:00, 801.60it/s]\n",
      "100%|██████████| 10000/10000 [00:12<00:00, 808.43it/s]\n",
      "100%|██████████| 10000/10000 [00:12<00:00, 781.17it/s]\n",
      "100%|██████████| 10000/10000 [00:12<00:00, 806.59it/s]\n",
      "100%|██████████| 10000/10000 [00:12<00:00, 814.77it/s]\n",
      "100%|██████████| 10000/10000 [00:12<00:00, 823.76it/s]\n"
     ]
    }
   ],
   "source": [
    "embedded_label_accs = []\n",
    "adversary_accs = []\n",
    "for fair in Fairs:\n",
    "\n",
    "    embedding_context_generator, embedding_labels_generator, embedding_data_test, embedding_context_test, embedding_labels_test = get_embedding_data(data_train, labels_train.squeeze(), context_train.squeeze(), data_test, labels_test.squeeze(), context_test.squeeze(), fair)\n",
    "\n",
    "    adv_classifier = BinaryClassifier(data_dim=data_train.shape[-1])    \n",
    "    adv_classifier.fit(embedding_context_generator)\n",
    "    embedded_label_classifier = BinaryClassifier(data_dim=data_train.shape[-1])\n",
    "    embedded_label_classifier.fit(embedding_labels_generator)\n",
    "\n",
    "    embedded_label_accs.append(embedded_label_classifier.accuracy(embedding_data_test, embedding_labels_test))\n",
    "    adversary_accs.append(adv_classifier.accuracy(embedding_data_test, embedding_context_test))"
   ]
  },
  {
   "cell_type": "code",
   "execution_count": 51,
   "id": "bdc68c41",
   "metadata": {},
   "outputs": [
    {
     "data": {
      "image/png": "[encoded data removed]",
      "text/plain": [
       "<Figure size 432x288 with 1 Axes>"
      ]
     },
     "metadata": {
      "needs_background": "light"
     },
     "output_type": "display_data"
    }
   ],
   "source": [
    "plt.plot(gammas, embedded_label_accs, label='embedded label accuracy')\n",
    "plt.plot(gammas, adversary_accs, label='embedded adversarial accuracy')\n",
    "plt.plot(np.linspace(0,1,10),np.ones(10)*baseline_label_acc, 'k--', label='un-embedded label accuracy')\n",
    "\n",
    "\n",
    "plt.xlabel('gamma')\n",
    "plt.ylabel('Accuracy')\n",
    "plt.title('crime data one flow')\n",
    "plt.legend()\n",
    "# plt.savefig('single_flow_crime_accuracy.png')\n",
    "plt.show()"
   ]
  },
  {
   "cell_type": "code",
   "execution_count": null,
   "id": "5b034d40",
   "metadata": {},
   "outputs": [],
   "source": []
  }
 ],
 "metadata": {
  "interpreter": {
   "hash": "8fee2622e3a8bc633187b5e9aed404d2594001afbad9b4a3b37a820e05bbe52a"
  },
  "kernelspec": {
   "display_name": "Python 3.7.7 64-bit ('.venv': venv)",
   "name": "python3"
  },
  "language_info": {
   "codemirror_mode": {
    "name": "ipython",
    "version": 3
   },
   "file_extension": ".py",
   "mimetype": "text/x-python",
   "name": "python",
   "nbconvert_exporter": "python",
   "pygments_lexer": "ipython3",
   "version": "3.9.7"
  }
 },
 "nbformat": 4,
 "nbformat_minor": 5
}
