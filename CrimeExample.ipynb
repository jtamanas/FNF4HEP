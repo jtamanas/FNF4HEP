{
 "cells": [
  {
   "cell_type": "code",
   "execution_count": 1,
   "id": "23e19334-529c-49da-85e7-39a68d44dbbf",
   "metadata": {},
   "outputs": [],
   "source": [
    "import torch\n",
    "import copy\n",
    "from torch.utils.data import TensorDataset\n",
    "import numpy as np\n",
    "import matplotlib.pyplot as plt\n",
    "from models.my_fair import BinaryFair\n",
    "from models.flow import Flow\n",
    "from models.classifier import BinaryClassifier\n",
    "from utils.StatisticalDistance import EmpiricalStatisticalDistance\n",
    "from sklearn.manifold import TSNE, SpectralEmbedding\n",
    "from sklearn.metrics import accuracy_score\n",
    "from sklearn.model_selection import train_test_split\n",
    "from tqdm.auto import trange\n",
    "from utils.DataSplitting import *\n",
    "\n",
    "%load_ext autoreload\n",
    "%autoreload 2"
   ]
  },
  {
   "cell_type": "code",
   "execution_count": 2,
   "id": "992984bc",
   "metadata": {},
   "outputs": [],
   "source": [
    "data_file = torch.load(\"data/Crime/data.pt\")"
   ]
  },
  {
   "cell_type": "code",
   "execution_count": 3,
   "id": "2dcb1498",
   "metadata": {},
   "outputs": [],
   "source": [
    "data = data_file['data']\n",
    "context = data_file['context']\n",
    "labels = data_file['labels']"
   ]
  },
  {
   "cell_type": "code",
   "execution_count": 4,
   "id": "e68abc69",
   "metadata": {},
   "outputs": [],
   "source": [
    "data_train, data_test, context_train, context_test, labels_train, labels_test = train_test_split(data, context, labels, test_size=0.1)\n",
    "data_train, data_val, context_train, context_val, labels_train, labels_val = train_test_split(data_train, context_train, labels_train, test_size=0.1)"
   ]
  },
  {
   "cell_type": "code",
   "execution_count": 16,
   "id": "44089fd8-fde9-4f69-aec4-684331944152",
   "metadata": {},
   "outputs": [],
   "source": [
    "# Parameters\n",
    "params = {'batch_size': 64,\n",
    "          'shuffle': True}\n",
    "\n",
    "# Split data by label\n",
    "data_0_train = data_train[context_train.flatten()==0]\n",
    "labels_0_train = labels_train[context_train.flatten()==0]\n",
    "context_0_train = context_train[context_train.flatten()==0]\n",
    "\n",
    "data_1_train = data_train[context_train.flatten()==1]\n",
    "labels_1_train = labels_train[context_train.flatten()==1]\n",
    "context_1_train = context_train[context_train.flatten()==1]\n",
    "\n",
    "data_0_test = data_test[context_test.flatten()==0]\n",
    "labels_0_test = labels_test[context_test.flatten()==0]\n",
    "context_0_test = context_test[context_test.flatten()==0]\n",
    "\n",
    "data_1_test = data_test[context_test.flatten()==1]\n",
    "labels_1_test = labels_test[context_test.flatten()==1]\n",
    "context_1_test = context_test[context_test.flatten()==1]\n",
    "\n",
    "data_0_val = data_val[context_val.flatten()==0]\n",
    "labels_0_val = labels_val[context_val.flatten()==0]\n",
    "context_0_val = context_val[context_val.flatten()==0]\n",
    "\n",
    "data_1_val = data_val[context_val.flatten()==1]\n",
    "labels_1_val = labels_val[context_val.flatten()==1]\n",
    "context_1_val = context_val[context_val.flatten()==1]\n",
    "\n",
    "# Generators\n",
    "label_0_set_train = TensorDataset(data_0_train, labels_0_train, context_0_train)\n",
    "label_0_generator_train = torch.utils.data.DataLoader(label_0_set_train, **params)\n",
    "\n",
    "label_1_set_train = TensorDataset(data_1_train, labels_1_train, context_1_train)\n",
    "label_1_generator_train = torch.utils.data.DataLoader(label_1_set_train, **params)\n",
    "\n",
    "label_0_set_test = TensorDataset(data_0_test, labels_0_test, context_0_test)\n",
    "label_0_generator_test = torch.utils.data.DataLoader(label_0_set_test, **params)\n",
    "\n",
    "label_1_set_test = TensorDataset(data_1_test, labels_1_test, context_1_test)\n",
    "label_1_generator_test = torch.utils.data.DataLoader(label_1_set_test, **params)\n",
    "\n",
    "label_0_set_val = TensorDataset(data_0_val, labels_0_val, context_0_val)\n",
    "label_0_generator_val = torch.utils.data.DataLoader(label_0_set_val, **params)\n",
    "\n",
    "label_1_set_val = TensorDataset(data_1_val, labels_1_val, context_1_val)\n",
    "label_1_generator_val = torch.utils.data.DataLoader(label_1_set_val, **params)"
   ]
  },
  {
   "cell_type": "code",
   "execution_count": 6,
   "id": "ad564019",
   "metadata": {},
   "outputs": [
    {
     "name": "stderr",
     "output_type": "stream",
     "text": [
      " 14%|█▍        | 6999/50000 [00:07<00:43, 990.32it/s] \n"
     ]
    },
    {
     "name": "stdout",
     "output_type": "stream",
     "text": [
      "Early stopping reached after 14 epochs\n"
     ]
    },
    {
     "name": "stderr",
     "output_type": "stream",
     "text": [
      " 23%|██▎       | 11499/50000 [00:11<00:39, 978.94it/s] \n"
     ]
    },
    {
     "name": "stdout",
     "output_type": "stream",
     "text": [
      "Early stopping reached after 23 epochs\n",
      "Label accuracy: 0.8450000286102295 Adversarial accuracy: 0.949999988079071\n"
     ]
    }
   ],
   "source": [
    "#Get label and adversarial accuracy on raw, un-embedded data\n",
    "data_set_labels_train = TensorDataset(data_train, labels_train.squeeze()) #For label classifier, use data and labels but not context\n",
    "data_generator_labels_train = torch.utils.data.DataLoader(data_set_labels_train, **params)\n",
    "\n",
    "data_set_labels_val = TensorDataset(data_val, labels_val.squeeze()) #For label classifier, use data and labels but not context\n",
    "data_generator_labels_val = torch.utils.data.DataLoader(data_set_labels_val, **params)\n",
    "\n",
    "data_set_context_train = TensorDataset(data_train, context_train.squeeze()) #For adversairal classifier, use data and context but not labels\n",
    "data_generator_context_train = torch.utils.data.DataLoader(data_set_context_train, **params)\n",
    "\n",
    "data_set_context_val = TensorDataset(data_val, context_val.squeeze()) #For adversairal classifier, use data and context but not labels\n",
    "data_generator_context_val = torch.utils.data.DataLoader(data_set_context_val, **params)\n",
    "\n",
    "label_classifier = BinaryClassifier(data_dim=data_train.shape[-1])\n",
    "label_classifier.fit(data_generator_labels_train, data_generator_labels_val)\n",
    "\n",
    "adversarial_classifier = BinaryClassifier(data_dim=data_train.shape[-1])\n",
    "adversarial_classifier.fit(data_generator_context_train, data_generator_context_val)\n",
    "\n",
    "baseline_label_acc = label_classifier.accuracy(data_test, labels_test.squeeze())\n",
    "baseline_adv_acc = adversarial_classifier.accuracy(data_test, context_test.squeeze())\n",
    "\n",
    "print(\"Label accuracy:\", baseline_label_acc, \"Adversarial accuracy:\", baseline_adv_acc)"
   ]
  },
  {
   "cell_type": "code",
   "execution_count": 7,
   "id": "c0bfa6cc",
   "metadata": {},
   "outputs": [],
   "source": [
    "probability_flow = Flow(data_dim=data_train.shape[-1], \n",
    "                  context_dim=context_train.shape[-1], #for alpha=1 the labels and contexts are the same\n",
    "                  n_layers = 3,\n",
    "                  transform_type = 'MaskedPiecewiseQuadraticAutoregressiveTransform', # ? Try Rational quadratic?\n",
    "                  num_bins = 50,\n",
    "                  tails='linear',\n",
    "                  tail_bound=6.0,\n",
    "        )"
   ]
  },
  {
   "cell_type": "code",
   "execution_count": 8,
   "id": "5f8e6657",
   "metadata": {},
   "outputs": [
    {
     "name": "stderr",
     "output_type": "stream",
     "text": [
      " 24%|██▍       | 2399/10000 [00:39<02:04, 60.90it/s]"
     ]
    },
    {
     "name": "stdout",
     "output_type": "stream",
     "text": [
      "Early stopping reached after 24 epochs\n"
     ]
    },
    {
     "name": "stderr",
     "output_type": "stream",
     "text": [
      "\n"
     ]
    }
   ],
   "source": [
    "tot_loss = probability_flow.fit_prob_flow(\n",
    "        data_generator_context_train,\n",
    "        data_generator_context_val,\n",
    "        lr=1e-4,\n",
    "        weight_decay=1e-4,\n",
    "        max_num_epochs=100,\n",
    "        n_steps_per_epoch=int(1e2),\n",
    "        patience=10,)"
   ]
  },
  {
   "cell_type": "code",
   "execution_count": 10,
   "id": "ae7f85ab",
   "metadata": {},
   "outputs": [
    {
     "data": {
      "image/png": "[encoded data removed]",
      "text/plain": [
       "<Figure size 432x288 with 1 Axes>"
      ]
     },
     "metadata": {
      "needs_background": "light"
     },
     "output_type": "display_data"
    }
   ],
   "source": [
    "plt.plot(tot_loss, label=\"total validation loss\")\n",
    "\n",
    "xlims = plt.xlim()\n",
    "ylims = plt.ylim()\n",
    "plt.legend()\n",
    "plt.show()"
   ]
  },
  {
   "cell_type": "code",
   "execution_count": 17,
   "id": "b78bbce9",
   "metadata": {},
   "outputs": [],
   "source": [
    "gamma = 0.5\n",
    "Fair = BinaryFair(data_dim=data_train.shape[-1], \n",
    "                    context_dim=context_train.shape[-1],\n",
    "                    flow_n_layers = 2,\n",
    "                    flow_transform_type = 'MaskedPiecewiseQuadraticAutoregressiveTransform', \n",
    "                    classifier_hidden_dim = 32,\n",
    "                    classifier_n_layers = 2,\n",
    "                    classifier_activation = 'ReLU',\n",
    "                    num_bins = 50,\n",
    "                    tails='linear',\n",
    "                    tail_bound=6.0,\n",
    "                    gamma=gamma\n",
    "                    )\n",
    "# optimizer = torch.optim.AdamW(Fair.parameters(), lr=1e-4, weight_decay=1e-4)\n",
    "total_losses = []\n",
    "KL_losses = []\n",
    "clf_losses = []"
   ]
  },
  {
   "cell_type": "code",
   "execution_count": 18,
   "id": "e878c9c3",
   "metadata": {},
   "outputs": [
    {
     "name": "stderr",
     "output_type": "stream",
     "text": [
      " 13%|█▎        | 1299/10000 [06:06<40:53,  3.55it/s] "
     ]
    },
    {
     "name": "stdout",
     "output_type": "stream",
     "text": [
      "Early stopping reached after 13 epochs\n"
     ]
    },
    {
     "name": "stderr",
     "output_type": "stream",
     "text": [
      "\n"
     ]
    }
   ],
   "source": [
    "# fair_loss = Fair.fit(label_0_generator, label_1_generator, probability_flow, n_steps=4000)\n",
    "fair_loss = Fair.fit(label_0_generator_train, label_1_generator_train, label_0_generator_val, label_1_generator_val, probability_flow, max_num_epochs=100, n_steps_per_epoch=int(1e2), patience=10,) "
   ]
  },
  {
   "cell_type": "code",
   "execution_count": 20,
   "id": "489ee3c2",
   "metadata": {},
   "outputs": [
    {
     "data": {
      "image/png": "[encoded data removed]",
      "text/plain": [
       "<Figure size 432x288 with 1 Axes>"
      ]
     },
     "metadata": {
      "needs_background": "light"
     },
     "output_type": "display_data"
    }
   ],
   "source": [
    "plt.plot(fair_loss, label=\"fair loss\")\n",
    "plt.xscale('log')\n",
    "plt.yscale('log')"
   ]
  },
  {
   "cell_type": "code",
   "execution_count": 99,
   "id": "5ee37acf",
   "metadata": {},
   "outputs": [
    {
     "data": {
      "text/plain": [
       "Text(0.5, 1.0, 'Embedding, gamma = 0.5')"
      ]
     },
     "execution_count": 99,
     "metadata": {},
     "output_type": "execute_result"
    },
    {
     "data": {
      "image/png": "[encoded data removed]",
      "text/plain": [
       "<Figure size 432x288 with 1 Axes>"
      ]
     },
     "metadata": {
      "needs_background": "light"
     },
     "output_type": "display_data"
    }
   ],
   "source": [
    "data_0, labels_0, context_0 = next(iter(label_0_generator_test))\n",
    "data_1, labels_1, context_1 = next(iter(label_1_generator_test))\n",
    "\n",
    "embedding_0, embedding_1 = Fair._embed(data_0, data_1, context_0=context_0, context_1=context_1)\n",
    "\n",
    "plt.scatter(*embedding_0.T[0:2].detach(), alpha=0.1, c=labels_0, cmap='coolwarm')\n",
    "plt.scatter(*embedding_1.T[0:2].detach(), alpha=0.1, c=labels_1, cmap='coolwarm')\n",
    "\n",
    "plt.title(\"Embedding, gamma = \" + str(gamma))\n",
    "# plt.savefig(\"Figures/embedding_gamma_\" + str(gamma) + \".png\")"
   ]
  },
  {
   "cell_type": "markdown",
   "id": "7ba0bb62",
   "metadata": {},
   "source": [
    "For gamma = 1, these two should be on top of one another, but they're not!"
   ]
  },
  {
   "cell_type": "code",
   "execution_count": 24,
   "id": "fbf03223",
   "metadata": {},
   "outputs": [
    {
     "name": "stderr",
     "output_type": "stream",
     "text": [
      "100%|██████████| 100/100 [00:04<00:00, 20.98it/s]"
     ]
    },
    {
     "name": "stdout",
     "output_type": "stream",
     "text": [
      "Training set accuracy: 0.632\n",
      "Test set accuracy: 0.631\n"
     ]
    },
    {
     "name": "stderr",
     "output_type": "stream",
     "text": [
      "\n"
     ]
    },
    {
     "data": {
      "text/plain": [
       "0.6314553990610329"
      ]
     },
     "execution_count": 24,
     "metadata": {},
     "output_type": "execute_result"
    }
   ],
   "source": [
    "with torch.no_grad():\n",
    "    idx = (data_file[\"context\"] == 0).flatten()\n",
    "    \n",
    "    embedding_0, embedding_1 = Fair._embed(\n",
    "        data_file[\"data\"][idx], data_file[\"data\"][~idx], context_0=data_file[\"context\"][idx], context_1=data_file[\"context\"][~idx]\n",
    "    )\n",
    "\n",
    "EmpiricalStatisticalDistance(\n",
    "    embedding_0, embedding_1, hidden_dim=64, n_layers=5, n_epochs=100\n",
    ")\n"
   ]
  },
  {
   "cell_type": "code",
   "execution_count": 25,
   "id": "b85aec6c-115e-486e-87c8-4d0b8871d7be",
   "metadata": {},
   "outputs": [],
   "source": [
    "#Optimal Adversary\n",
    "#TODO: need to add the context to the data\n",
    "# idx = (data_file[\"context\"] == 0).flatten()\n",
    "# data_0 = data_file[\"data\"][idx]\n",
    "# data_1 = data_file[\"data\"][~idx]\n",
    "# context_0 = data_file[\"context\"][idx]\n",
    "# context_1 = data_file[\"context\"][~idx]\n",
    "data_0, labels_0, context_0 = next(iter(label_0_generator_train))\n",
    "data_1, labels_1, context_1 = next(iter(label_1_generator_train))\n",
    "\n",
    "# mu_star_0_avg, mu_star_1_avg, stat_dist, logP_Z0_z0, logP_Z1_z1, logP_Z0_z1, logP_Z1_z0 = Fair.optimal_adversary(data_0, data_1, context_0=context_0, context_1=context_1, probability_flow=probability_flow)\n",
    "stat_dist, mu_star_0, mu_star_1, = Fair.optimal_adversary(label_0_generator_train, label_1_generator_train, probability_func=probability_flow)\n"
   ]
  },
  {
   "cell_type": "markdown",
   "id": "f311cbd8",
   "metadata": {},
   "source": [
    "gamma: 0.01 mu_star_0_avg: tensor(0.1875) mu_star_1_ave: tensor(0.8750) stat_dist: tensor(-0.6875)\n",
    "\n",
    "gamma: 0.9 mu_star_0_avg: tensor(0.2812) mu_star_1_ave: tensor(0.5938) stat_dist: tensor(-0.3125)"
   ]
  },
  {
   "cell_type": "code",
   "execution_count": 27,
   "id": "e4a2c85a",
   "metadata": {},
   "outputs": [],
   "source": [
    "gammas = [0.0, 0.02, 0.1, 0.2, 0.9]\n",
    "Fairs = []"
   ]
  },
  {
   "cell_type": "code",
   "execution_count": 29,
   "id": "7899aca7",
   "metadata": {},
   "outputs": [
    {
     "name": "stderr",
     "output_type": "stream",
     "text": [
      " 27%|██▋       | 2699/10000 [00:54<02:26, 49.68it/s]\n"
     ]
    },
    {
     "name": "stdout",
     "output_type": "stream",
     "text": [
      "Early stopping reached after 27 epochs\n"
     ]
    },
    {
     "name": "stderr",
     "output_type": "stream",
     "text": [
      " 17%|█▋        | 1699/10000 [07:48<38:11,  3.62it/s]\n"
     ]
    },
    {
     "name": "stdout",
     "output_type": "stream",
     "text": [
      "Early stopping reached after 17 epochs\n"
     ]
    },
    {
     "name": "stderr",
     "output_type": "stream",
     "text": [
      " 19%|█▊        | 1859/10000 [10:55<47:48,  2.84it/s]  \n"
     ]
    },
    {
     "name": "stdout",
     "output_type": "stream",
     "text": [
      "Loss is nan\n"
     ]
    },
    {
     "name": "stderr",
     "output_type": "stream",
     "text": [
      " 32%|███▏      | 3199/10000 [14:45<31:22,  3.61it/s]  \n"
     ]
    },
    {
     "name": "stdout",
     "output_type": "stream",
     "text": [
      "Early stopping reached after 32 epochs\n"
     ]
    },
    {
     "name": "stderr",
     "output_type": "stream",
     "text": [
      " 18%|█▊        | 1799/10000 [19:32<1:29:03,  1.53it/s]  "
     ]
    },
    {
     "name": "stdout",
     "output_type": "stream",
     "text": [
      "Early stopping reached after 18 epochs\n"
     ]
    },
    {
     "name": "stderr",
     "output_type": "stream",
     "text": [
      "\n"
     ]
    }
   ],
   "source": [
    "for gamma in gammas:\n",
    "    Fair = BinaryFair(data_dim=data_train.shape[-1], \n",
    "                    context_dim=context_train.shape[-1],\n",
    "                    flow_n_layers = 2,\n",
    "                    flow_transform_type = 'MaskedPiecewiseQuadraticAutoregressiveTransform', \n",
    "                    classifier_hidden_dim = 32,\n",
    "                    classifier_n_layers = 2,\n",
    "                    classifier_activation = 'ReLU',\n",
    "                    num_bins = 50,\n",
    "                    tails='linear',\n",
    "                    tail_bound=6.0,\n",
    "                    gamma=gamma\n",
    "                    )\n",
    "    fair_loss = Fair.fit(label_0_generator_train, label_1_generator_train, label_0_generator_val, label_1_generator_val, probability_flow, max_num_epochs=100, n_steps_per_epoch=int(1e2), patience=10,) \n",
    "\n",
    "\n",
    "    Fairs.append(Fair)\n"
   ]
  },
  {
   "cell_type": "code",
   "execution_count": 27,
   "id": "bebcb88c",
   "metadata": {},
   "outputs": [
    {
     "name": "stdout",
     "output_type": "stream",
     "text": [
      "[1.0, 0.59375, 0.484375, 0.234375, 0.28125]\n"
     ]
    }
   ],
   "source": [
    "data_0_test, labels_0_test, context_0_test = next(iter(label_0_generator_test))\n",
    "data_1_test, labels_1_test, context_1_test = next(iter(label_1_generator_test))\n",
    "stat_dists=[]\n",
    "mu0s_arr=[]\n",
    "mu1s_arr=[]\n",
    "\n",
    "for fair in Fairs:\n",
    "    stat_dist, mu0s, mu1s = fair.optimal_adversary(label_0_generator_test, label_1_generator_test,probability_func=probability_flow)\n",
    "    mu0s_arr.append(mu0s.sum().item()/len(mu0s))\n",
    "    mu1s_arr.append(mu1s.sum().item()/len(mu1s))\n",
    "    stat_dists.append(abs(stat_dist.item()))\n",
    "print(stat_dists)"
   ]
  },
  {
   "cell_type": "code",
   "execution_count": 28,
   "id": "2e6f9afe",
   "metadata": {},
   "outputs": [
    {
     "name": "stderr",
     "output_type": "stream",
     "text": [
      "100%|██████████| 100/100 [00:04<00:00, 21.36it/s]"
     ]
    },
    {
     "name": "stdout",
     "output_type": "stream",
     "text": [
      "Training set accuracy: 0.610\n",
      "Test set accuracy: 0.581\n"
     ]
    },
    {
     "name": "stderr",
     "output_type": "stream",
     "text": [
      "\n"
     ]
    }
   ],
   "source": [
    "with torch.no_grad():\n",
    "    idx = (data_file[\"context\"] == 0).flatten()\n",
    "    embedding_0, embedding_1 = Fair._embed(\n",
    "        data_file[\"data\"][idx], data_file[\"data\"][~idx], context_0=data_file[\"context\"][idx], context_1=data_file[\"context\"][~idx])\n",
    "\n",
    "acc_test = EmpiricalStatisticalDistance(\n",
    "    embedding_0, embedding_1, hidden_dim=64, n_layers=5, n_epochs=100, report_accuracy=True\n",
    ")"
   ]
  },
  {
   "cell_type": "code",
   "execution_count": null,
   "id": "f916435a",
   "metadata": {},
   "outputs": [],
   "source": [
    "accs = []\n",
    "for fair in Fairs:\n",
    "    with torch.no_grad():\n",
    "        idx = (data_file[\"context\"] == 0).flatten()\n",
    "        embedding_0, embedding_1 = fair._embed(\n",
    "            data_file[\"data\"][idx], data_file[\"data\"][~idx], context_0=data_file[\"context\"][idx], context_1=data_file[\"context\"][~idx])\n",
    "\n",
    "    acc_test = EmpiricalStatisticalDistance(\n",
    "        embedding_0, embedding_1, hidden_dim=64, n_layers=5, n_epochs=100, report_accuracy=True\n",
    "    )\n",
    "    accs.append(acc_test)"
   ]
  },
  {
   "cell_type": "code",
   "execution_count": 33,
   "id": "8040a3b0",
   "metadata": {},
   "outputs": [
    {
     "data": {
      "image/png": "[encoded data removed]",
      "text/plain": [
       "<Figure size 432x288 with 1 Axes>"
      ]
     },
     "metadata": {
      "needs_background": "light"
     },
     "output_type": "display_data"
    }
   ],
   "source": [
    "plt.plot(gammas, accs, '-o', color='orange')\n",
    "plt.xlim(0,1)\n",
    "plt.ylim(0.45,1)\n",
    "plt.xlabel('gamma')\n",
    "plt.ylabel('adversarial accuracy')\n",
    "plt.show()"
   ]
  },
  {
   "cell_type": "code",
   "execution_count": 36,
   "id": "dd2240f0",
   "metadata": {},
   "outputs": [
    {
     "data": {
      "image/png": "[encoded data removed]",
      "text/plain": [
       "<Figure size 432x288 with 1 Axes>"
      ]
     },
     "metadata": {
      "needs_background": "light"
     },
     "output_type": "display_data"
    }
   ],
   "source": [
    "plt.plot(stat_dists, accs, '-o', color='orange')\n",
    "plt.xlim(0,1)\n",
    "plt.ylim(0.45,1)\n",
    "plt.xlabel('statistical distance')\n",
    "plt.ylabel('adversarial accuracy')\n",
    "plt.title('crime_data_one_flow')\n",
    "plt.savefig('crime_data_one_flow.png')\n",
    "plt.show()\n"
   ]
  },
  {
   "cell_type": "code",
   "execution_count": null,
   "id": "12c3441a",
   "metadata": {},
   "outputs": [
    {
     "data": {
      "image/png": "[encoded data removed]",
      "text/plain": [
       "<Figure size 432x288 with 1 Axes>"
      ]
     },
     "metadata": {
      "needs_background": "light"
     },
     "output_type": "display_data"
    }
   ],
   "source": [
    "plt.plot(stat_dists, accs, '-o', color='orange')\n",
    "plt.xlim(0,1)\n",
    "plt.ylim(0.45,1)\n",
    "plt.xlabel('statistical distance')\n",
    "plt.ylabel('adversarial accuracy?')\n",
    "plt.show()"
   ]
  },
  {
   "cell_type": "markdown",
   "id": "0410b81f",
   "metadata": {},
   "source": [
    "add validation set (both to probability flow and FAIR)\n",
    "85, 10, 5"
   ]
  },
  {
   "cell_type": "markdown",
   "id": "a6bade7d",
   "metadata": {},
   "source": [
    "Check classifier accuracy (separate generation from analysis)\n",
    "torch.save model\n",
    "torch.load model\n",
    "rewrite splitting\n",
    "save probability flow separately"
   ]
  },
  {
   "cell_type": "code",
   "execution_count": 32,
   "id": "1638dbbb",
   "metadata": {},
   "outputs": [
    {
     "name": "stderr",
     "output_type": "stream",
     "text": [
      " 72%|███████▏  | 35999/50000 [00:28<00:11, 1257.90it/s]\n"
     ]
    },
    {
     "name": "stdout",
     "output_type": "stream",
     "text": [
      "Early stopping reached after 72 epochs\n"
     ]
    },
    {
     "name": "stderr",
     "output_type": "stream",
     "text": [
      " 19%|█▉        | 9499/50000 [00:09<00:39, 1027.48it/s]\n"
     ]
    },
    {
     "name": "stdout",
     "output_type": "stream",
     "text": [
      "Early stopping reached after 19 epochs\n"
     ]
    },
    {
     "name": "stderr",
     "output_type": "stream",
     "text": [
      " 18%|█▊        | 8999/50000 [00:07<00:34, 1187.94it/s]\n"
     ]
    },
    {
     "name": "stdout",
     "output_type": "stream",
     "text": [
      "Early stopping reached after 18 epochs\n"
     ]
    },
    {
     "name": "stderr",
     "output_type": "stream",
     "text": [
      " 19%|█▉        | 9499/50000 [00:08<00:34, 1167.51it/s]\n"
     ]
    },
    {
     "name": "stdout",
     "output_type": "stream",
     "text": [
      "Early stopping reached after 19 epochs\n"
     ]
    },
    {
     "name": "stderr",
     "output_type": "stream",
     "text": [
      " 27%|██▋       | 13499/50000 [00:10<00:28, 1274.88it/s]\n"
     ]
    },
    {
     "name": "stdout",
     "output_type": "stream",
     "text": [
      "Early stopping reached after 27 epochs\n"
     ]
    },
    {
     "name": "stderr",
     "output_type": "stream",
     "text": [
      " 15%|█▍        | 7499/50000 [00:05<00:33, 1267.83it/s]\n"
     ]
    },
    {
     "name": "stdout",
     "output_type": "stream",
     "text": [
      "Early stopping reached after 15 epochs\n"
     ]
    },
    {
     "name": "stderr",
     "output_type": "stream",
     "text": [
      " 18%|█▊        | 8999/50000 [00:06<00:31, 1285.96it/s]\n"
     ]
    },
    {
     "name": "stdout",
     "output_type": "stream",
     "text": [
      "Early stopping reached after 18 epochs\n"
     ]
    },
    {
     "name": "stderr",
     "output_type": "stream",
     "text": [
      " 16%|█▌        | 7999/50000 [00:06<00:32, 1294.84it/s]\n"
     ]
    },
    {
     "name": "stdout",
     "output_type": "stream",
     "text": [
      "Early stopping reached after 16 epochs\n"
     ]
    },
    {
     "name": "stderr",
     "output_type": "stream",
     "text": [
      " 26%|██▌       | 12999/50000 [00:10<00:28, 1278.14it/s]\n"
     ]
    },
    {
     "name": "stdout",
     "output_type": "stream",
     "text": [
      "Early stopping reached after 26 epochs\n"
     ]
    },
    {
     "name": "stderr",
     "output_type": "stream",
     "text": [
      " 16%|█▌        | 7999/50000 [00:06<00:32, 1281.19it/s]"
     ]
    },
    {
     "name": "stdout",
     "output_type": "stream",
     "text": [
      "Early stopping reached after 16 epochs\n"
     ]
    },
    {
     "name": "stderr",
     "output_type": "stream",
     "text": [
      "\n"
     ]
    }
   ],
   "source": [
    "embedded_label_accs = []\n",
    "adversary_accs = []\n",
    "for fair in Fairs:\n",
    "\n",
    "    # embedding_context_generator, embedding_labels_generator, embedding_data_test, embedding_context_test, embedding_labels_test = get_embedding_data(data_train, labels_train.squeeze(), context_train.squeeze(), data_test, labels_test.squeeze(), context_test.squeeze(), fair)\n",
    "    embedding_context_generator_train, embedding_labels_generator_train, embedding_context_generator_val, embedding_labels_generator_val, embedding_data_test, embedding_context_test, embedding_labels_test = get_embedding_data(data_train, labels_train.squeeze(), context_train.squeeze(), data_val, labels_val.squeeze(), context_val.squeeze(), data_test, labels_test.squeeze(), context_test.squeeze(), fair)\n",
    "\n",
    "    adv_classifier = BinaryClassifier(data_dim=data_train.shape[-1])    \n",
    "    adv_classifier.fit(embedding_context_generator_train,embedding_context_generator_val )\n",
    "    \n",
    "    embedded_label_classifier = BinaryClassifier(data_dim=data_train.shape[-1])\n",
    "    embedded_label_classifier.fit(embedding_labels_generator_train, embedding_labels_generator_val)\n",
    "\n",
    "    embedded_label_accs.append(embedded_label_classifier.accuracy(embedding_data_test, embedding_labels_test))\n",
    "    adversary_accs.append(adv_classifier.accuracy(embedding_data_test, embedding_context_test))\n"
   ]
  },
  {
   "cell_type": "code",
   "execution_count": 33,
   "id": "f481e177",
   "metadata": {},
   "outputs": [
    {
     "data": {
      "image/png": "[encoded data removed]",
      "text/plain": [
       "<Figure size 432x288 with 1 Axes>"
      ]
     },
     "metadata": {
      "needs_background": "light"
     },
     "output_type": "display_data"
    }
   ],
   "source": [
    "plt.plot(gammas, embedded_label_accs, label='embedded label accuracy')\n",
    "plt.plot(gammas, adversary_accs, label='embedded adversarial accuracy')\n",
    "plt.plot(np.linspace(0,1,10),np.ones(10)*baseline_label_acc, 'k--', label='un-embedded label accuracy')\n",
    "\n",
    "\n",
    "plt.xlabel('gamma')\n",
    "plt.ylabel('Accuracy')\n",
    "plt.title('crime data one flow')\n",
    "plt.legend()\n",
    "# plt.savefig('single_flow_crime_accuracy.png')\n",
    "plt.show()"
   ]
  },
  {
   "cell_type": "code",
   "execution_count": null,
   "id": "5b034d40",
   "metadata": {},
   "outputs": [],
   "source": []
  }
 ],
 "metadata": {
  "interpreter": {
   "hash": "8fee2622e3a8bc633187b5e9aed404d2594001afbad9b4a3b37a820e05bbe52a"
  },
  "kernelspec": {
   "display_name": "Python 3.7.7 64-bit ('.venv': venv)",
   "name": "python3"
  },
  "language_info": {
   "codemirror_mode": {
    "name": "ipython",
    "version": 3
   },
   "file_extension": ".py",
   "mimetype": "text/x-python",
   "name": "python",
   "nbconvert_exporter": "python",
   "pygments_lexer": "ipython3",
   "version": "3.9.7"
  }
 },
 "nbformat": 4,
 "nbformat_minor": 5
}
